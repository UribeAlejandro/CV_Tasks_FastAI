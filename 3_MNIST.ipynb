{
 "cells": [
  {
   "cell_type": "markdown",
   "metadata": {
    "id": "jVCixZICl2iU"
   },
   "source": [
    "# Cat vs Dogs\n"
   ]
  },
  {
   "cell_type": "markdown",
   "metadata": {
    "id": "ogmYOPu9nRsh"
   },
   "source": [
    "## Librerías\n",
    "- Instalación de librerías y módulos\n",
    "- Carga de librerías y módulos\n"
   ]
  },
  {
   "cell_type": "code",
   "execution_count": null,
   "metadata": {
    "id": "FFqOzMIFA_p8"
   },
   "outputs": [],
   "source": [
    "!pip install fastai==1.0.61"
   ]
  },
  {
   "cell_type": "code",
   "execution_count": 2,
   "metadata": {
    "colab": {
     "base_uri": "https://localhost:8080/"
    },
    "id": "_jO0HLwFnktq",
    "outputId": "dac47f07-1f7c-47bd-bbd5-185f85dc2232"
   },
   "outputs": [
    {
     "name": "stdout",
     "output_type": "stream",
     "text": [
      "Mounted at /content/drive\n"
     ]
    }
   ],
   "source": [
    "import os\n",
    "import PIL.Image\n",
    "import numpy as np\n",
    "from shutil import copy\n",
    "from pathlib import Path\n",
    "from random import randint, shuffle, seed\n",
    "\n",
    "from fastai.vision import *\n",
    "\n",
    "from google.colab import drive\n",
    "drive.mount('/content/drive')"
   ]
  },
  {
   "cell_type": "markdown",
   "metadata": {
    "id": "smueM1-J1rHt"
   },
   "source": [
    "Se define una función para garantizar la reproducibilidad de los resultados."
   ]
  },
  {
   "cell_type": "code",
   "execution_count": 3,
   "metadata": {
    "id": "3qeJS0zdvtQp"
   },
   "outputs": [],
   "source": [
    "def random_seed(seed_value):\n",
    "    seed(seed_value)\n",
    "    np.random.seed(seed_value)\n",
    "    torch.manual_seed(seed_value)\n",
    "    os.environ['PYTHONHASHSEED'] = str(seed)\n",
    "    \n",
    "    if torch.cuda.is_available():\n",
    "        torch.cuda.manual_seed(seed_value)\n",
    "        torch.cuda.manual_seed_all(seed_value)\n",
    "        torch.backends.cudnn.deterministic = True\n",
    "        torch.backends.cudnn.benchmark = False\n",
    "\n",
    "SEED = 42\n",
    "random_seed(SEED)"
   ]
  },
  {
   "cell_type": "markdown",
   "metadata": {
    "id": "wlPopChJ12B3"
   },
   "source": [
    "Se instancian variables comunes."
   ]
  },
  {
   "cell_type": "code",
   "execution_count": 4,
   "metadata": {
    "id": "fb7_M7z_dPe5"
   },
   "outputs": [],
   "source": [
    "lr = 1e-02\n",
    "EPOCHS = 20\n",
    "metrics = [error_rate,accuracy]"
   ]
  },
  {
   "cell_type": "markdown",
   "metadata": {
    "id": "iDKY8qe9l2if"
   },
   "source": [
    "## MNIST\n",
    "Descargue el conjunto de datos `MNIST` y en particular cree un modelo para **clasificar los números 1 y 7** usando una `resnet18` en `fastai`.\n",
    "\n",
    "<img src=\"https://3qeqpr26caki16dnhd19sv6by6v-wpengine.netdna-ssl.com/wp-content/uploads/2019/02/Plot-of-a-Subset-of-Images-from-the-MNIST-Dataset.png\"\n",
    "     alt=\"MNIST\"\n",
    "     style=\"float: left; margin-right: 10px;\" />\n",
    "\n",
    "¿Cuál fue la precisión usando solo 30 imágenes de c/u, obtuvo una mejor precisión usando ahora 50 imágenes por número?"
   ]
  },
  {
   "cell_type": "markdown",
   "metadata": {
    "id": "LlRGgvlGoT8c"
   },
   "source": [
    "### Carga Datos\n",
    "Se descargaron los datos haciendo uso de la API de fastai para descargar datasets públicos."
   ]
  },
  {
   "cell_type": "code",
   "execution_count": 22,
   "metadata": {
    "colab": {
     "base_uri": "https://localhost:8080/",
     "height": 34
    },
    "id": "ZqTNwQPNl2if",
    "outputId": "5d7a08e3-617a-47b8-92af-d26feed45814"
   },
   "outputs": [
    {
     "name": "stdout",
     "output_type": "stream",
     "text": [
      "Downloading https://s3.amazonaws.com/fast-ai-imageclas/mnist_png.tgz\n"
     ]
    },
    {
     "data": {
      "text/html": [],
      "text/plain": [
       "<IPython.core.display.HTML object>"
      ]
     },
     "metadata": {
      "tags": []
     },
     "output_type": "display_data"
    }
   ],
   "source": [
    "path = untar_data(URLs.MNIST)\n",
    "Path.BASE_PATH = path"
   ]
  },
  {
   "cell_type": "markdown",
   "metadata": {
    "id": "3FLCE2yNt_sh"
   },
   "source": [
    "Se verifican los subdirectorios de los datos descargados."
   ]
  },
  {
   "cell_type": "code",
   "execution_count": 23,
   "metadata": {
    "colab": {
     "base_uri": "https://localhost:8080/"
    },
    "id": "IbkV8IHKl2ig",
    "outputId": "f8dd2928-9e66-4c8f-d03c-338aa1d61b98"
   },
   "outputs": [
    {
     "data": {
      "text/plain": [
       "[PosixPath('/root/.fastai/data/mnist_png/testing'),\n",
       " PosixPath('/root/.fastai/data/mnist_png/training')]"
      ]
     },
     "execution_count": 23,
     "metadata": {
      "tags": []
     },
     "output_type": "execute_result"
    }
   ],
   "source": [
    "path.ls()"
   ]
  },
  {
   "cell_type": "markdown",
   "metadata": {
    "id": "gSxn3amfuJzD"
   },
   "source": [
    "Se verifica el subdirectorio de training, del cual se extraerán los números a clasificar *i.e.* `1s` & `7s`."
   ]
  },
  {
   "cell_type": "code",
   "execution_count": 24,
   "metadata": {
    "colab": {
     "base_uri": "https://localhost:8080/"
    },
    "id": "_QnYlF20of7i",
    "outputId": "f62b1e98-0d61-4464-b1d8-fcbf920ac3e5"
   },
   "outputs": [
    {
     "data": {
      "text/plain": [
       "[PosixPath('/root/.fastai/data/mnist_png/training/6'),\n",
       " PosixPath('/root/.fastai/data/mnist_png/training/1'),\n",
       " PosixPath('/root/.fastai/data/mnist_png/training/7'),\n",
       " PosixPath('/root/.fastai/data/mnist_png/training/5'),\n",
       " PosixPath('/root/.fastai/data/mnist_png/training/8'),\n",
       " PosixPath('/root/.fastai/data/mnist_png/training/9'),\n",
       " PosixPath('/root/.fastai/data/mnist_png/training/2'),\n",
       " PosixPath('/root/.fastai/data/mnist_png/training/3'),\n",
       " PosixPath('/root/.fastai/data/mnist_png/training/0'),\n",
       " PosixPath('/root/.fastai/data/mnist_png/training/4')]"
      ]
     },
     "execution_count": 24,
     "metadata": {
      "tags": []
     },
     "output_type": "execute_result"
    }
   ],
   "source": [
    "(path/'training/').ls()"
   ]
  },
  {
   "cell_type": "code",
   "execution_count": 25,
   "metadata": {
    "colab": {
     "base_uri": "https://localhost:8080/"
    },
    "id": "-8HnMHMOHJYf",
    "outputId": "1ca72e5a-388e-4ad1-bc28-441ee9dc1768"
   },
   "outputs": [
    {
     "data": {
      "text/plain": [
       "[PosixPath('/root/.fastai/data/mnist_png/testing/6'),\n",
       " PosixPath('/root/.fastai/data/mnist_png/testing/1'),\n",
       " PosixPath('/root/.fastai/data/mnist_png/testing/7'),\n",
       " PosixPath('/root/.fastai/data/mnist_png/testing/5'),\n",
       " PosixPath('/root/.fastai/data/mnist_png/testing/8'),\n",
       " PosixPath('/root/.fastai/data/mnist_png/testing/9'),\n",
       " PosixPath('/root/.fastai/data/mnist_png/testing/2'),\n",
       " PosixPath('/root/.fastai/data/mnist_png/testing/3'),\n",
       " PosixPath('/root/.fastai/data/mnist_png/testing/0'),\n",
       " PosixPath('/root/.fastai/data/mnist_png/testing/4')]"
      ]
     },
     "execution_count": 25,
     "metadata": {
      "tags": []
     },
     "output_type": "execute_result"
    }
   ],
   "source": [
    "(path/'testing/').ls()"
   ]
  },
  {
   "cell_type": "markdown",
   "metadata": {
    "id": "TK2hXPN7CtS7"
   },
   "source": [
    "Se definió una función para llevar a cabo la carga de los ejemplos necesarios para cada ejemplo"
   ]
  },
  {
   "cell_type": "code",
   "execution_count": 26,
   "metadata": {
    "id": "cKnc54LCGcIW"
   },
   "outputs": [],
   "source": [
    "def dump_files(path:Path, n_train:int, labels:list = ['1','7'], base_dirs:list=['training','testing']) -> Path:\n",
    "    n_test = int(n_train*0.3)\n",
    "\n",
    "    for dir in base_dirs:\n",
    "        for num in labels:\n",
    "            num_parent_dir = path/str(dir)/str(num)\n",
    "            num_dirs = num_parent_dir.ls()\n",
    "            shuffle(num_dirs)\n",
    "\n",
    "            dump_parent = Path(f\"{path}/samples_{n_train}\")\n",
    "            dump_child = Path(f\"{dump_parent}/{dir}/{num}\")\n",
    "\n",
    "            if dir ==\"training\":\n",
    "                sel_files = num_dirs[0:n_train]\n",
    "            else:\n",
    "                sel_files = num_dirs[0:n_test]\n",
    "\n",
    "            if not os.path.isdir(dump_child):\n",
    "                os.makedirs(dump_child)\n",
    "            else:\n",
    "                pass\n",
    "            if len(dump_child.ls()) > 0:\n",
    "                pass\n",
    "            else:\n",
    "                for i in sel_files:\n",
    "                    shutil.copy(i, dump_child)\n",
    "\n",
    "\n",
    "    return dump_parent"
   ]
  },
  {
   "cell_type": "markdown",
   "metadata": {
    "id": "NMnjt2P7uK6x"
   },
   "source": [
    "### Modelo 1\n",
    "|Característica        |Descripción|\n",
    "|----------------------|-----------|\n",
    "|Modelo                |Resnet18   |\n",
    "|Imágenes Entrenamiento|60         |\n",
    "|Fracción test         |30%        |"
   ]
  },
  {
   "cell_type": "markdown",
   "metadata": {
    "id": "WbuGCuTav0pA"
   },
   "source": [
    "Se identifican el número de imágenes de entrenamiento y validación:"
   ]
  },
  {
   "cell_type": "code",
   "execution_count": 27,
   "metadata": {
    "id": "oox5KaO5vz6y"
   },
   "outputs": [],
   "source": [
    "n_train = 30\n",
    "random_seed(SEED)"
   ]
  },
  {
   "cell_type": "markdown",
   "metadata": {
    "id": "wqL6i9mWucsq"
   },
   "source": [
    "Del directorio de entrenamiento se extrajeron 30 ejemplos de cada una de las clases especificadas anteriormente."
   ]
  },
  {
   "cell_type": "code",
   "execution_count": 28,
   "metadata": {
    "colab": {
     "base_uri": "https://localhost:8080/"
    },
    "id": "E9YYwGp49a6D",
    "outputId": "45f31258-9c14-42cc-8e1e-76d06bf06946"
   },
   "outputs": [
    {
     "name": "stdout",
     "output_type": "stream",
     "text": [
      "/root/.fastai/data/mnist_png/samples_30\n"
     ]
    }
   ],
   "source": [
    "path_30 = dump_files(path,n_train)\n",
    "print(path_30)"
   ]
  },
  {
   "cell_type": "code",
   "execution_count": 29,
   "metadata": {
    "id": "kmdHCeqaSUAG"
   },
   "outputs": [],
   "source": [
    "train_dir = path_30/\"training\"\n",
    "test_dir = path_30/\"testing\""
   ]
  },
  {
   "cell_type": "code",
   "execution_count": 30,
   "metadata": {
    "colab": {
     "base_uri": "https://localhost:8080/"
    },
    "id": "SNy1fq-nP-UR",
    "outputId": "64f8aebb-c05d-4165-c997-8fb16918f1fc"
   },
   "outputs": [
    {
     "name": "stdout",
     "output_type": "stream",
     "text": [
      "Training set\n",
      "Ones: 30 examples\n",
      "Sevens: 30 examples\n",
      "\n",
      "Testing set\n",
      "Ones: 9 examples\n",
      "Sevens: 9 examples\n"
     ]
    }
   ],
   "source": [
    "print(f\"Training set\\nOnes: {len((train_dir/'1').ls())} examples\\nSevens: {len((train_dir/'7').ls())} examples\\n\")\n",
    "print(f\"Testing set\\nOnes: {len((test_dir/'1').ls())} examples\\nSevens: {len((test_dir/'7').ls())} examples\")"
   ]
  },
  {
   "cell_type": "code",
   "execution_count": 31,
   "metadata": {
    "id": "wWPYPW5zvk1E"
   },
   "outputs": [],
   "source": [
    "data_30 = ImageDataBunch.from_folder(path_30,train=\"training\",valid=\"testing\",seed=SEED,bs=16,num_workers=4).normalize(imagenet_stats)"
   ]
  },
  {
   "cell_type": "code",
   "execution_count": 32,
   "metadata": {
    "colab": {
     "base_uri": "https://localhost:8080/"
    },
    "id": "GKqxfa3dT67-",
    "outputId": "353b9fa8-b6f9-4651-d018-6550573ed278"
   },
   "outputs": [
    {
     "name": "stdout",
     "output_type": "stream",
     "text": [
      "Distinct classes: ['1', '7']\n",
      "Count Distinct classes: 2\n",
      "Training Examples: 60\n",
      "Validation examples: 18\n"
     ]
    }
   ],
   "source": [
    "print(f\"Distinct classes: {data_30.classes}\\nCount Distinct classes: {data_30.c}\\nTraining Examples: {len(data_30.train_ds)}\\nValidation examples: {len(data_30.valid_ds)}\")"
   ]
  },
  {
   "cell_type": "code",
   "execution_count": 33,
   "metadata": {
    "colab": {
     "base_uri": "https://localhost:8080/",
     "height": 296
    },
    "id": "i45461qLT6_9",
    "outputId": "4b308de1-b468-4a7a-805f-f497f9926bb3"
   },
   "outputs": [
    {
     "data": {
      "image/png": "[encoded data removed]",
      "text/plain": [
       "<Figure size 288x288 with 4 Axes>"
      ]
     },
     "metadata": {
      "needs_background": "light",
      "tags": []
     },
     "output_type": "display_data"
    }
   ],
   "source": [
    "data_30.show_batch(rows=2, figsize=(4,4))"
   ]
  },
  {
   "cell_type": "markdown",
   "metadata": {
    "id": "EiD7D4viJSwz"
   },
   "source": [
    "#### Entrenamiento"
   ]
  },
  {
   "cell_type": "code",
   "execution_count": 34,
   "metadata": {
    "colab": {
     "base_uri": "https://localhost:8080/",
     "height": 104,
     "referenced_widgets": [
      "6fccb78857434278893e8988a63d7a83",
      "34c66e0b0b7d4d198570c1756c151f49",
      "0245b72d56564bfeb5b386068cec2c79",
      "a42ae3b09373449db8db04fef2254482",
      "49bd3bf59a764fb98aab3c3e1750e2ef",
      "05cca0711f254242845648092d5b3acb",
      "7f3d3337e7724f1bae7eb7d718d9eac2",
      "48e1c3eb212d42fda1d5ceb4243247e3"
     ]
    },
    "id": "-iZlLV0rT7Bz",
    "outputId": "6da80712-d8be-4e93-bb77-d9edc49ec91a"
   },
   "outputs": [
    {
     "name": "stderr",
     "output_type": "stream",
     "text": [
      "Downloading: \"https://download.pytorch.org/models/resnet18-5c106cde.pth\" to /root/.cache/torch/hub/checkpoints/resnet18-5c106cde.pth\n"
     ]
    },
    {
     "data": {
      "application/vnd.jupyter.widget-view+json": {
       "model_id": "6fccb78857434278893e8988a63d7a83",
       "version_major": 2,
       "version_minor": 0
      },
      "text/plain": [
       "HBox(children=(FloatProgress(value=0.0, max=46827520.0), HTML(value='')))"
      ]
     },
     "metadata": {
      "tags": []
     },
     "output_type": "display_data"
    },
    {
     "name": "stdout",
     "output_type": "stream",
     "text": [
      "\n"
     ]
    }
   ],
   "source": [
    "learn_30 = cnn_learner(data_30, models.resnet18, metrics=metrics)"
   ]
  },
  {
   "cell_type": "code",
   "execution_count": 35,
   "metadata": {
    "colab": {
     "base_uri": "https://localhost:8080/",
     "height": 647
    },
    "id": "ITKP05CqT7GZ",
    "outputId": "47d3b350-7fb0-464f-835f-5eaf1dc46b5b"
   },
   "outputs": [
    {
     "data": {
      "text/html": [
       "<table border=\"1\" class=\"dataframe\">\n",
       "  <thead>\n",
       "    <tr style=\"text-align: left;\">\n",
       "      <th>epoch</th>\n",
       "      <th>train_loss</th>\n",
       "      <th>valid_loss</th>\n",
       "      <th>error_rate</th>\n",
       "      <th>accuracy</th>\n",
       "      <th>time</th>\n",
       "    </tr>\n",
       "  </thead>\n",
       "  <tbody>\n",
       "    <tr>\n",
       "      <td>0</td>\n",
       "      <td>1.738063</td>\n",
       "      <td>1.582864</td>\n",
       "      <td>0.333333</td>\n",
       "      <td>0.666667</td>\n",
       "      <td>00:00</td>\n",
       "    </tr>\n",
       "    <tr>\n",
       "      <td>1</td>\n",
       "      <td>1.177894</td>\n",
       "      <td>2.347204</td>\n",
       "      <td>0.500000</td>\n",
       "      <td>0.500000</td>\n",
       "      <td>00:00</td>\n",
       "    </tr>\n",
       "    <tr>\n",
       "      <td>2</td>\n",
       "      <td>0.900685</td>\n",
       "      <td>0.709290</td>\n",
       "      <td>0.222222</td>\n",
       "      <td>0.777778</td>\n",
       "      <td>00:00</td>\n",
       "    </tr>\n",
       "    <tr>\n",
       "      <td>3</td>\n",
       "      <td>0.826912</td>\n",
       "      <td>0.436955</td>\n",
       "      <td>0.111111</td>\n",
       "      <td>0.888889</td>\n",
       "      <td>00:00</td>\n",
       "    </tr>\n",
       "    <tr>\n",
       "      <td>4</td>\n",
       "      <td>0.725466</td>\n",
       "      <td>0.350967</td>\n",
       "      <td>0.111111</td>\n",
       "      <td>0.888889</td>\n",
       "      <td>00:00</td>\n",
       "    </tr>\n",
       "    <tr>\n",
       "      <td>5</td>\n",
       "      <td>0.639072</td>\n",
       "      <td>0.112388</td>\n",
       "      <td>0.055556</td>\n",
       "      <td>0.944444</td>\n",
       "      <td>00:00</td>\n",
       "    </tr>\n",
       "    <tr>\n",
       "      <td>6</td>\n",
       "      <td>0.578276</td>\n",
       "      <td>0.033261</td>\n",
       "      <td>0.000000</td>\n",
       "      <td>1.000000</td>\n",
       "      <td>00:00</td>\n",
       "    </tr>\n",
       "    <tr>\n",
       "      <td>7</td>\n",
       "      <td>0.543057</td>\n",
       "      <td>0.232435</td>\n",
       "      <td>0.166667</td>\n",
       "      <td>0.833333</td>\n",
       "      <td>00:00</td>\n",
       "    </tr>\n",
       "    <tr>\n",
       "      <td>8</td>\n",
       "      <td>0.527731</td>\n",
       "      <td>0.743631</td>\n",
       "      <td>0.111111</td>\n",
       "      <td>0.888889</td>\n",
       "      <td>00:00</td>\n",
       "    </tr>\n",
       "    <tr>\n",
       "      <td>9</td>\n",
       "      <td>0.464798</td>\n",
       "      <td>0.716980</td>\n",
       "      <td>0.111111</td>\n",
       "      <td>0.888889</td>\n",
       "      <td>00:00</td>\n",
       "    </tr>\n",
       "    <tr>\n",
       "      <td>10</td>\n",
       "      <td>0.434022</td>\n",
       "      <td>0.496077</td>\n",
       "      <td>0.111111</td>\n",
       "      <td>0.888889</td>\n",
       "      <td>00:00</td>\n",
       "    </tr>\n",
       "    <tr>\n",
       "      <td>11</td>\n",
       "      <td>0.404578</td>\n",
       "      <td>0.501271</td>\n",
       "      <td>0.055556</td>\n",
       "      <td>0.944444</td>\n",
       "      <td>00:00</td>\n",
       "    </tr>\n",
       "    <tr>\n",
       "      <td>12</td>\n",
       "      <td>0.366725</td>\n",
       "      <td>0.553501</td>\n",
       "      <td>0.055556</td>\n",
       "      <td>0.944444</td>\n",
       "      <td>00:00</td>\n",
       "    </tr>\n",
       "    <tr>\n",
       "      <td>13</td>\n",
       "      <td>0.334445</td>\n",
       "      <td>0.621769</td>\n",
       "      <td>0.055556</td>\n",
       "      <td>0.944444</td>\n",
       "      <td>00:00</td>\n",
       "    </tr>\n",
       "    <tr>\n",
       "      <td>14</td>\n",
       "      <td>0.301530</td>\n",
       "      <td>0.774573</td>\n",
       "      <td>0.055556</td>\n",
       "      <td>0.944444</td>\n",
       "      <td>00:00</td>\n",
       "    </tr>\n",
       "    <tr>\n",
       "      <td>15</td>\n",
       "      <td>0.281574</td>\n",
       "      <td>0.673105</td>\n",
       "      <td>0.055556</td>\n",
       "      <td>0.944444</td>\n",
       "      <td>00:00</td>\n",
       "    </tr>\n",
       "    <tr>\n",
       "      <td>16</td>\n",
       "      <td>0.256798</td>\n",
       "      <td>0.858652</td>\n",
       "      <td>0.111111</td>\n",
       "      <td>0.888889</td>\n",
       "      <td>00:00</td>\n",
       "    </tr>\n",
       "    <tr>\n",
       "      <td>17</td>\n",
       "      <td>0.235681</td>\n",
       "      <td>0.903161</td>\n",
       "      <td>0.111111</td>\n",
       "      <td>0.888889</td>\n",
       "      <td>00:00</td>\n",
       "    </tr>\n",
       "    <tr>\n",
       "      <td>18</td>\n",
       "      <td>0.240762</td>\n",
       "      <td>0.699490</td>\n",
       "      <td>0.111111</td>\n",
       "      <td>0.888889</td>\n",
       "      <td>00:00</td>\n",
       "    </tr>\n",
       "    <tr>\n",
       "      <td>19</td>\n",
       "      <td>0.227733</td>\n",
       "      <td>0.547430</td>\n",
       "      <td>0.166667</td>\n",
       "      <td>0.833333</td>\n",
       "      <td>00:00</td>\n",
       "    </tr>\n",
       "  </tbody>\n",
       "</table>"
      ],
      "text/plain": [
       "<IPython.core.display.HTML object>"
      ]
     },
     "metadata": {
      "tags": []
     },
     "output_type": "display_data"
    }
   ],
   "source": [
    "learn_30.fit(EPOCHS,slice(lr))"
   ]
  },
  {
   "cell_type": "markdown",
   "metadata": {
    "id": "WtcvTSUUFy1l"
   },
   "source": [
    "Se obtuvo una precisión del ~83%. No obstante, pudo definirse un criterio de early stopping para detener el entrenamiento cuando se encontraba una precisión del ~94%."
   ]
  },
  {
   "cell_type": "markdown",
   "metadata": {
    "id": "AAxPa4SieufA"
   },
   "source": [
    "### Modelo 2\n",
    "|Característica        |Descripción|\n",
    "|----------------------|-----------|\n",
    "|Modelo                |Resnet18   |\n",
    "|Imágenes Entrenamiento|100        |\n",
    "|Fracción test         |30%        |"
   ]
  },
  {
   "cell_type": "code",
   "execution_count": 36,
   "metadata": {
    "id": "dYDtKKqtaFY7"
   },
   "outputs": [],
   "source": [
    "n_train = 50\n",
    "random_seed(SEED)"
   ]
  },
  {
   "cell_type": "code",
   "execution_count": 37,
   "metadata": {
    "colab": {
     "base_uri": "https://localhost:8080/"
    },
    "id": "CtjIxTv2fBUa",
    "outputId": "e17555c4-1490-485f-cfac-9fdf5419a5e7"
   },
   "outputs": [
    {
     "name": "stdout",
     "output_type": "stream",
     "text": [
      "/root/.fastai/data/mnist_png/samples_50\n"
     ]
    }
   ],
   "source": [
    "path_50 = dump_files(path,n_train)\n",
    "print(path_50)"
   ]
  },
  {
   "cell_type": "code",
   "execution_count": 38,
   "metadata": {
    "id": "sAgdPvvlfBWj"
   },
   "outputs": [],
   "source": [
    "train_dir = path_50/\"training\"\n",
    "test_dir = path_50/\"testing\""
   ]
  },
  {
   "cell_type": "code",
   "execution_count": 39,
   "metadata": {
    "colab": {
     "base_uri": "https://localhost:8080/"
    },
    "id": "IbN4oySEfO2H",
    "outputId": "3c09041a-0a64-4d3c-8a5e-125d70e4410a"
   },
   "outputs": [
    {
     "name": "stdout",
     "output_type": "stream",
     "text": [
      "Training set\n",
      "Ones: 50 examples\n",
      "Sevens: 50 examples\n",
      "\n",
      "Testing set\n",
      "Ones: 15 examples\n",
      "Sevens: 15 examples\n"
     ]
    }
   ],
   "source": [
    "print(f\"Training set\\nOnes: {len((train_dir/'1').ls())} examples\\nSevens: {len((train_dir/'7').ls())} examples\\n\")\n",
    "print(f\"Testing set\\nOnes: {len((test_dir/'1').ls())} examples\\nSevens: {len((test_dir/'7').ls())} examples\")"
   ]
  },
  {
   "cell_type": "code",
   "execution_count": 40,
   "metadata": {
    "id": "3Azmr8HdfS9b"
   },
   "outputs": [],
   "source": [
    "data_50 = ImageDataBunch.from_folder(path_50,train=\"training\",valid=\"testing\",seed=SEED,bs=16,num_workers=4).normalize(imagenet_stats)"
   ]
  },
  {
   "cell_type": "code",
   "execution_count": 41,
   "metadata": {
    "colab": {
     "base_uri": "https://localhost:8080/"
    },
    "id": "LrqHUVj5fWrJ",
    "outputId": "56654d25-2c64-4135-b713-90c7b2362d7f"
   },
   "outputs": [
    {
     "name": "stdout",
     "output_type": "stream",
     "text": [
      "Distinct classes: ['1', '7']\n",
      "Count Distinct classes: 2\n",
      "Training Examples: 100\n",
      "Validation examples: 30\n"
     ]
    }
   ],
   "source": [
    "print(f\"Distinct classes: {data_50.classes}\\nCount Distinct classes: {data_50.c}\\nTraining Examples: {len(data_50.train_ds)}\\nValidation examples: {len(data_50.valid_ds)}\")"
   ]
  },
  {
   "cell_type": "code",
   "execution_count": 42,
   "metadata": {
    "colab": {
     "base_uri": "https://localhost:8080/",
     "height": 296
    },
    "id": "NI13EbTkfWtx",
    "outputId": "4cee7f4f-8102-4aea-bb41-30a433854677"
   },
   "outputs": [
    {
     "data": {
      "image/png": "[encoded data removed]",
      "text/plain": [
       "<Figure size 288x288 with 4 Axes>"
      ]
     },
     "metadata": {
      "needs_background": "light",
      "tags": []
     },
     "output_type": "display_data"
    }
   ],
   "source": [
    "data_50.show_batch(rows=2, figsize=(4,4))"
   ]
  },
  {
   "cell_type": "markdown",
   "metadata": {
    "id": "SnFFrxEAJXAm"
   },
   "source": [
    "#### Entrenamiento"
   ]
  },
  {
   "cell_type": "code",
   "execution_count": 43,
   "metadata": {
    "id": "klFMKkgXfWw2"
   },
   "outputs": [],
   "source": [
    "learn_50 = cnn_learner(data_50, models.resnet18, metrics=metrics)"
   ]
  },
  {
   "cell_type": "code",
   "execution_count": 44,
   "metadata": {
    "colab": {
     "base_uri": "https://localhost:8080/",
     "height": 647
    },
    "id": "L9DHVx4Tffq2",
    "outputId": "b03bd86e-47e3-46e9-b093-5c9f135eeb49"
   },
   "outputs": [
    {
     "data": {
      "text/html": [
       "<table border=\"1\" class=\"dataframe\">\n",
       "  <thead>\n",
       "    <tr style=\"text-align: left;\">\n",
       "      <th>epoch</th>\n",
       "      <th>train_loss</th>\n",
       "      <th>valid_loss</th>\n",
       "      <th>error_rate</th>\n",
       "      <th>accuracy</th>\n",
       "      <th>time</th>\n",
       "    </tr>\n",
       "  </thead>\n",
       "  <tbody>\n",
       "    <tr>\n",
       "      <td>0</td>\n",
       "      <td>1.849060</td>\n",
       "      <td>4.153708</td>\n",
       "      <td>0.466667</td>\n",
       "      <td>0.533333</td>\n",
       "      <td>00:00</td>\n",
       "    </tr>\n",
       "    <tr>\n",
       "      <td>1</td>\n",
       "      <td>1.515610</td>\n",
       "      <td>0.333271</td>\n",
       "      <td>0.133333</td>\n",
       "      <td>0.866667</td>\n",
       "      <td>00:00</td>\n",
       "    </tr>\n",
       "    <tr>\n",
       "      <td>2</td>\n",
       "      <td>1.136972</td>\n",
       "      <td>0.843495</td>\n",
       "      <td>0.266667</td>\n",
       "      <td>0.733333</td>\n",
       "      <td>00:00</td>\n",
       "    </tr>\n",
       "    <tr>\n",
       "      <td>3</td>\n",
       "      <td>0.882469</td>\n",
       "      <td>0.414904</td>\n",
       "      <td>0.166667</td>\n",
       "      <td>0.833333</td>\n",
       "      <td>00:00</td>\n",
       "    </tr>\n",
       "    <tr>\n",
       "      <td>4</td>\n",
       "      <td>0.719486</td>\n",
       "      <td>0.240898</td>\n",
       "      <td>0.100000</td>\n",
       "      <td>0.900000</td>\n",
       "      <td>00:00</td>\n",
       "    </tr>\n",
       "    <tr>\n",
       "      <td>5</td>\n",
       "      <td>0.618560</td>\n",
       "      <td>0.059993</td>\n",
       "      <td>0.033333</td>\n",
       "      <td>0.966667</td>\n",
       "      <td>00:00</td>\n",
       "    </tr>\n",
       "    <tr>\n",
       "      <td>6</td>\n",
       "      <td>0.517531</td>\n",
       "      <td>0.317414</td>\n",
       "      <td>0.033333</td>\n",
       "      <td>0.966667</td>\n",
       "      <td>00:00</td>\n",
       "    </tr>\n",
       "    <tr>\n",
       "      <td>7</td>\n",
       "      <td>0.465452</td>\n",
       "      <td>0.777795</td>\n",
       "      <td>0.100000</td>\n",
       "      <td>0.900000</td>\n",
       "      <td>00:00</td>\n",
       "    </tr>\n",
       "    <tr>\n",
       "      <td>8</td>\n",
       "      <td>0.417610</td>\n",
       "      <td>0.639598</td>\n",
       "      <td>0.100000</td>\n",
       "      <td>0.900000</td>\n",
       "      <td>00:00</td>\n",
       "    </tr>\n",
       "    <tr>\n",
       "      <td>9</td>\n",
       "      <td>0.357265</td>\n",
       "      <td>0.646147</td>\n",
       "      <td>0.066667</td>\n",
       "      <td>0.933333</td>\n",
       "      <td>00:00</td>\n",
       "    </tr>\n",
       "    <tr>\n",
       "      <td>10</td>\n",
       "      <td>0.315758</td>\n",
       "      <td>0.602137</td>\n",
       "      <td>0.133333</td>\n",
       "      <td>0.866667</td>\n",
       "      <td>00:00</td>\n",
       "    </tr>\n",
       "    <tr>\n",
       "      <td>11</td>\n",
       "      <td>0.283585</td>\n",
       "      <td>1.072663</td>\n",
       "      <td>0.133333</td>\n",
       "      <td>0.866667</td>\n",
       "      <td>00:00</td>\n",
       "    </tr>\n",
       "    <tr>\n",
       "      <td>12</td>\n",
       "      <td>0.315208</td>\n",
       "      <td>0.870240</td>\n",
       "      <td>0.166667</td>\n",
       "      <td>0.833333</td>\n",
       "      <td>00:00</td>\n",
       "    </tr>\n",
       "    <tr>\n",
       "      <td>13</td>\n",
       "      <td>0.289574</td>\n",
       "      <td>1.189696</td>\n",
       "      <td>0.200000</td>\n",
       "      <td>0.800000</td>\n",
       "      <td>00:00</td>\n",
       "    </tr>\n",
       "    <tr>\n",
       "      <td>14</td>\n",
       "      <td>0.253428</td>\n",
       "      <td>1.538428</td>\n",
       "      <td>0.200000</td>\n",
       "      <td>0.800000</td>\n",
       "      <td>00:00</td>\n",
       "    </tr>\n",
       "    <tr>\n",
       "      <td>15</td>\n",
       "      <td>0.225146</td>\n",
       "      <td>1.677560</td>\n",
       "      <td>0.166667</td>\n",
       "      <td>0.833333</td>\n",
       "      <td>00:00</td>\n",
       "    </tr>\n",
       "    <tr>\n",
       "      <td>16</td>\n",
       "      <td>0.207897</td>\n",
       "      <td>1.317141</td>\n",
       "      <td>0.166667</td>\n",
       "      <td>0.833333</td>\n",
       "      <td>00:00</td>\n",
       "    </tr>\n",
       "    <tr>\n",
       "      <td>17</td>\n",
       "      <td>0.189969</td>\n",
       "      <td>0.907450</td>\n",
       "      <td>0.200000</td>\n",
       "      <td>0.800000</td>\n",
       "      <td>00:00</td>\n",
       "    </tr>\n",
       "    <tr>\n",
       "      <td>18</td>\n",
       "      <td>0.178516</td>\n",
       "      <td>0.637193</td>\n",
       "      <td>0.100000</td>\n",
       "      <td>0.900000</td>\n",
       "      <td>00:00</td>\n",
       "    </tr>\n",
       "    <tr>\n",
       "      <td>19</td>\n",
       "      <td>0.200139</td>\n",
       "      <td>0.227853</td>\n",
       "      <td>0.100000</td>\n",
       "      <td>0.900000</td>\n",
       "      <td>00:00</td>\n",
       "    </tr>\n",
       "  </tbody>\n",
       "</table>"
      ],
      "text/plain": [
       "<IPython.core.display.HTML object>"
      ]
     },
     "metadata": {
      "tags": []
     },
     "output_type": "display_data"
    }
   ],
   "source": [
    "learn_50.fit(EPOCHS, slice(lr))"
   ]
  },
  {
   "cell_type": "markdown",
   "metadata": {
    "id": "SgzHBJ3x9uL3"
   },
   "source": [
    "Se apreció una precisión mayor comparado con el del modelo 1, ~10% mayor que este."
   ]
  },
  {
   "cell_type": "markdown",
   "metadata": {
    "id": "_fhkJyE11iLs"
   },
   "source": [
    "### Comparación Modelos\n",
    "Ambos modelos se entrenaron con una tasa de aprendizaje constante y número de epochs igual con el propósito.\n",
    "\n",
    ">**Disclaimer:** Lo declarado a continuación puede no ser totalmente acertado dada la incapacidad de reducir la variación en los resultados."
   ]
  },
  {
   "cell_type": "markdown",
   "metadata": {
    "id": "H21jhOGN_Oiy"
   },
   "source": [
    "#### Tasa de Aprendizaje"
   ]
  },
  {
   "cell_type": "code",
   "execution_count": 45,
   "metadata": {
    "colab": {
     "base_uri": "https://localhost:8080/",
     "height": 307
    },
    "id": "z7dMofPR_OtD",
    "outputId": "09976679-fd47-412c-95f5-0b898a0b85b0"
   },
   "outputs": [
    {
     "data": {
      "image/png": "[encoded data removed]",
      "text/plain": [
       "<Figure size 432x288 with 1 Axes>"
      ]
     },
     "metadata": {
      "needs_background": "light",
      "tags": []
     },
     "output_type": "display_data"
    }
   ],
   "source": [
    "lr_30 = learn_30.recorder.plot_lr(return_fig=True)\n",
    "lr_30.suptitle('Learning Rate\\n30 examples per class')\n",
    "plt.show()"
   ]
  },
  {
   "cell_type": "code",
   "execution_count": 46,
   "metadata": {
    "colab": {
     "base_uri": "https://localhost:8080/",
     "height": 307
    },
    "id": "cpGGnb0j_mTB",
    "outputId": "68ccd45d-bd82-4485-d2e5-86eff022152c"
   },
   "outputs": [
    {
     "data": {
      "image/png": "[encoded data removed]",
      "text/plain": [
       "<Figure size 432x288 with 1 Axes>"
      ]
     },
     "metadata": {
      "needs_background": "light",
      "tags": []
     },
     "output_type": "display_data"
    }
   ],
   "source": [
    "lr_50 = learn_50.recorder.plot_lr(return_fig=True)\n",
    "lr_50.suptitle('Learning Rate\\n50 examples per class')\n",
    "plt.show()"
   ]
  },
  {
   "cell_type": "markdown",
   "metadata": {
    "id": "cjJIHkYL_xMc"
   },
   "source": [
    "Para ambos modelos no se aprecia cambios en la tasa de aprendizaje ya que esta se fijo a un valor constante:\n",
    "\n",
    "$$l_r = 1*10^{-2}$$"
   ]
  },
  {
   "cell_type": "markdown",
   "metadata": {
    "id": "WcoEqKBl_EZk"
   },
   "source": [
    "#### Tasa de error - Precisión"
   ]
  },
  {
   "cell_type": "code",
   "execution_count": 47,
   "metadata": {
    "colab": {
     "base_uri": "https://localhost:8080/",
     "height": 554
    },
    "id": "ZWRZyBKR2vA2",
    "outputId": "9b692e84-83e5-44a4-a101-420e6253e9ea"
   },
   "outputs": [
    {
     "data": {
      "image/png": "[encoded data removed]",
      "text/plain": [
       "<Figure size 432x576 with 2 Axes>"
      ]
     },
     "metadata": {
      "needs_background": "light",
      "tags": []
     },
     "output_type": "display_data"
    }
   ],
   "source": [
    "m_30 = learn_30.recorder.plot_metrics(return_fig=True)\n",
    "m_30.suptitle('Metrics\\n30 examples per class')\n",
    "plt.show()"
   ]
  },
  {
   "cell_type": "code",
   "execution_count": 48,
   "metadata": {
    "colab": {
     "base_uri": "https://localhost:8080/",
     "height": 554
    },
    "id": "dz7OF1IC-Fzk",
    "outputId": "0d5e355f-8584-4261-ae9e-a0d773960db5"
   },
   "outputs": [
    {
     "data": {
      "image/png": "[encoded data removed]",
      "text/plain": [
       "<Figure size 432x576 with 2 Axes>"
      ]
     },
     "metadata": {
      "needs_background": "light",
      "tags": []
     },
     "output_type": "display_data"
    }
   ],
   "source": [
    "m_50 = learn_50.recorder.plot_metrics(return_fig=True)\n",
    "m_50.suptitle('Metrics\\n50 examples per class')\n",
    "plt.show()"
   ]
  },
  {
   "cell_type": "markdown",
   "metadata": {
    "id": "DJZO1jRyABLK"
   },
   "source": [
    "|Métrica|Comentario|\n",
    "|-------|----------|\n",
    "|Error rate|No se encontró una tendencia similar en ambos modelos, donde la variable actual tiende a descender y, posteriormente, a incrementar su valor.|\n",
    "|Error rate|En ambos casos pudo definirse un criterio de early stopping en el que se detuviera el entrenamiento una vez la tasa de error incrementáse su valor.|\n",
    "|Accuracy|De acuerdo con el comentario anterior se encontró un máximo al inicio del entrenamiento.|\n",
    "|Accuracy|Ambos modelos fluctuaron un ~10% por encima o por debajo de una línea base al final del entrenamiento.|\n",
    "\n",
    "Cabe resaltar que el modelo 2 mostró una mayor precisión respecto al apreciado en el modelo 1. Hecho que se adjudica al mayor número de ejemplos usados para el entrenamiento."
   ]
  },
  {
   "cell_type": "markdown",
   "metadata": {
    "id": "rK09KxKr_B9f"
   },
   "source": [
    "\n",
    "#### Pérdida"
   ]
  },
  {
   "cell_type": "code",
   "execution_count": 49,
   "metadata": {
    "colab": {
     "base_uri": "https://localhost:8080/",
     "height": 307
    },
    "id": "2pTkx-HN-7RI",
    "outputId": "a71681c4-939c-44b7-b8b0-cf5f79fd4c8a"
   },
   "outputs": [
    {
     "data": {
      "image/png": "[encoded data removed]",
      "text/plain": [
       "<Figure size 432x288 with 1 Axes>"
      ]
     },
     "metadata": {
      "needs_background": "light",
      "tags": []
     },
     "output_type": "display_data"
    }
   ],
   "source": [
    "l_30 = learn_30.recorder.plot_losses(return_fig=True)\n",
    "l_30.suptitle('Loss\\n30 examples per class')\n",
    "plt.show()"
   ]
  },
  {
   "cell_type": "code",
   "execution_count": 50,
   "metadata": {
    "colab": {
     "base_uri": "https://localhost:8080/",
     "height": 307
    },
    "id": "RMwrjtrt-7T-",
    "outputId": "2bcf365f-9dbf-47da-cb33-5117455e989d"
   },
   "outputs": [
    {
     "data": {
      "image/png": "[encoded data removed]",
      "text/plain": [
       "<Figure size 432x288 with 1 Axes>"
      ]
     },
     "metadata": {
      "needs_background": "light",
      "tags": []
     },
     "output_type": "display_data"
    }
   ],
   "source": [
    "l_50 = learn_50.recorder.plot_losses(return_fig=True)\n",
    "l_50.suptitle('Loss\\n50 examples per class')\n",
    "plt.show()"
   ]
  },
  {
   "cell_type": "markdown",
   "metadata": {
    "id": "IaeM_fyWGVOI"
   },
   "source": [
    "Ambas pérdidas (Train, Validation) tienden al mismo valor a lo largo del entrenamiento. Por lo tanto, ambos modelos se consideran como modelos de bajo sesgo."
   ]
  },
  {
   "cell_type": "markdown",
   "metadata": {
    "id": "ykGJW9NDAGtc"
   },
   "source": [
    "#### Matriz de Confusión"
   ]
  },
  {
   "cell_type": "code",
   "execution_count": 51,
   "metadata": {
    "colab": {
     "base_uri": "https://localhost:8080/",
     "height": 16
    },
    "id": "sC_bTmjvp0VP",
    "outputId": "e162b346-265a-4e2b-e5e0-54da7d77d81f"
   },
   "outputs": [
    {
     "data": {
      "text/html": [],
      "text/plain": [
       "<IPython.core.display.HTML object>"
      ]
     },
     "metadata": {
      "tags": []
     },
     "output_type": "display_data"
    },
    {
     "data": {
      "text/html": [],
      "text/plain": [
       "<IPython.core.display.HTML object>"
      ]
     },
     "metadata": {
      "tags": []
     },
     "output_type": "display_data"
    }
   ],
   "source": [
    "interp_30 = ClassificationInterpretation.from_learner(learn_30)\n",
    "interp_50 = ClassificationInterpretation.from_learner(learn_50)"
   ]
  },
  {
   "cell_type": "code",
   "execution_count": 52,
   "metadata": {
    "colab": {
     "base_uri": "https://localhost:8080/",
     "height": 311
    },
    "id": "3BQDWn24AMix",
    "outputId": "d324141f-3c19-43f1-fad6-49984b2b0c53"
   },
   "outputs": [
    {
     "data": {
      "image/png": "[encoded data removed]",
      "text/plain": [
       "<Figure size 432x288 with 1 Axes>"
      ]
     },
     "metadata": {
      "needs_background": "light",
      "tags": []
     },
     "output_type": "display_data"
    }
   ],
   "source": [
    "cm_30 = interp_30.plot_confusion_matrix(normalize=True, return_fig=True,title=\"Normalized confusion matrix\\n30 examples per class\")\n",
    "plt.show()"
   ]
  },
  {
   "cell_type": "code",
   "execution_count": 53,
   "metadata": {
    "colab": {
     "base_uri": "https://localhost:8080/",
     "height": 311
    },
    "id": "SYv45jY0Ad0H",
    "outputId": "f706abfb-3d3f-4700-b23f-bc7006a3cfc1"
   },
   "outputs": [
    {
     "data": {
      "image/png": "[encoded data removed]",
      "text/plain": [
       "<Figure size 432x288 with 1 Axes>"
      ]
     },
     "metadata": {
      "needs_background": "light",
      "tags": []
     },
     "output_type": "display_data"
    }
   ],
   "source": [
    "cm_50 = interp_50.plot_confusion_matrix(normalize=True, return_fig=True,title=\"Normalized confusion matrix\\n50 examples per class\")\n",
    "plt.show()"
   ]
  },
  {
   "cell_type": "markdown",
   "metadata": {
    "id": "HpKM_KW1I2Ju"
   },
   "source": [
    "Ambos modelos mostraron una baja ocurrencia de `1s` predichos erróneamente. Ambos modelos mostraron ocurrencia de `7s` predichos erróneamente. \n",
    "\n",
    "Por lo tanto, se presume un leve underfitting en la predicción de `7s` dada la occurencia de predicciones erróneas previamente mencionada.\n",
    "\n",
    "Además el modelo 1 presentó un leve underfitting en la predicción de `1s`."
   ]
  }
 ],
 "metadata": {
  "accelerator": "GPU",
  "colab": {
   "collapsed_sections": [],
   "name": "AlejandroUribe_MateoGonzalez.ipynb",
   "provenance": [],
   "toc_visible": true
  },
  "kernelspec": {
   "display_name": "Python 3",
   "language": "python",
   "name": "python3"
  },
  "language_info": {
   "codemirror_mode": {
    "name": "ipython",
    "version": 3
   },
   "file_extension": ".py",
   "mimetype": "text/x-python",
   "name": "python",
   "nbconvert_exporter": "python",
   "pygments_lexer": "ipython3",
   "version": "3.8.5"
  },
  "widgets": {
   "application/vnd.jupyter.widget-state+json": {
    "0245b72d56564bfeb5b386068cec2c79": {
     "model_module": "@jupyter-widgets/controls",
     "model_name": "FloatProgressModel",
     "state": {
      "_dom_classes": [],
      "_model_module": "@jupyter-widgets/controls",
      "_model_module_version": "1.5.0",
      "_model_name": "FloatProgressModel",
      "_view_count": null,
      "_view_module": "@jupyter-widgets/controls",
      "_view_module_version": "1.5.0",
      "_view_name": "ProgressView",
      "bar_style": "success",
      "description": "100%",
      "description_tooltip": null,
      "layout": "IPY_MODEL_05cca0711f254242845648092d5b3acb",
      "max": 46827520,
      "min": 0,
      "orientation": "horizontal",
      "style": "IPY_MODEL_49bd3bf59a764fb98aab3c3e1750e2ef",
      "value": 46827520
     }
    },
    "05cca0711f254242845648092d5b3acb": {
     "model_module": "@jupyter-widgets/base",
     "model_name": "LayoutModel",
     "state": {
      "_model_module": "@jupyter-widgets/base",
      "_model_module_version": "1.2.0",
      "_model_name": "LayoutModel",
      "_view_count": null,
      "_view_module": "@jupyter-widgets/base",
      "_view_module_version": "1.2.0",
      "_view_name": "LayoutView",
      "align_content": null,
      "align_items": null,
      "align_self": null,
      "border": null,
      "bottom": null,
      "display": null,
      "flex": null,
      "flex_flow": null,
      "grid_area": null,
      "grid_auto_columns": null,
      "grid_auto_flow": null,
      "grid_auto_rows": null,
      "grid_column": null,
      "grid_gap": null,
      "grid_row": null,
      "grid_template_areas": null,
      "grid_template_columns": null,
      "grid_template_rows": null,
      "height": null,
      "justify_content": null,
      "justify_items": null,
      "left": null,
      "margin": null,
      "max_height": null,
      "max_width": null,
      "min_height": null,
      "min_width": null,
      "object_fit": null,
      "object_position": null,
      "order": null,
      "overflow": null,
      "overflow_x": null,
      "overflow_y": null,
      "padding": null,
      "right": null,
      "top": null,
      "visibility": null,
      "width": null
     }
    },
    "16c737fb8bf64b8da8c5e335ce009900": {
     "model_module": "@jupyter-widgets/base",
     "model_name": "LayoutModel",
     "state": {
      "_model_module": "@jupyter-widgets/base",
      "_model_module_version": "1.2.0",
      "_model_name": "LayoutModel",
      "_view_count": null,
      "_view_module": "@jupyter-widgets/base",
      "_view_module_version": "1.2.0",
      "_view_name": "LayoutView",
      "align_content": null,
      "align_items": null,
      "align_self": null,
      "border": null,
      "bottom": null,
      "display": null,
      "flex": null,
      "flex_flow": null,
      "grid_area": null,
      "grid_auto_columns": null,
      "grid_auto_flow": null,
      "grid_auto_rows": null,
      "grid_column": null,
      "grid_gap": null,
      "grid_row": null,
      "grid_template_areas": null,
      "grid_template_columns": null,
      "grid_template_rows": null,
      "height": null,
      "justify_content": null,
      "justify_items": null,
      "left": null,
      "margin": null,
      "max_height": null,
      "max_width": null,
      "min_height": null,
      "min_width": null,
      "object_fit": null,
      "object_position": null,
      "order": null,
      "overflow": null,
      "overflow_x": null,
      "overflow_y": null,
      "padding": null,
      "right": null,
      "top": null,
      "visibility": null,
      "width": null
     }
    },
    "34c66e0b0b7d4d198570c1756c151f49": {
     "model_module": "@jupyter-widgets/base",
     "model_name": "LayoutModel",
     "state": {
      "_model_module": "@jupyter-widgets/base",
      "_model_module_version": "1.2.0",
      "_model_name": "LayoutModel",
      "_view_count": null,
      "_view_module": "@jupyter-widgets/base",
      "_view_module_version": "1.2.0",
      "_view_name": "LayoutView",
      "align_content": null,
      "align_items": null,
      "align_self": null,
      "border": null,
      "bottom": null,
      "display": null,
      "flex": null,
      "flex_flow": null,
      "grid_area": null,
      "grid_auto_columns": null,
      "grid_auto_flow": null,
      "grid_auto_rows": null,
      "grid_column": null,
      "grid_gap": null,
      "grid_row": null,
      "grid_template_areas": null,
      "grid_template_columns": null,
      "grid_template_rows": null,
      "height": null,
      "justify_content": null,
      "justify_items": null,
      "left": null,
      "margin": null,
      "max_height": null,
      "max_width": null,
      "min_height": null,
      "min_width": null,
      "object_fit": null,
      "object_position": null,
      "order": null,
      "overflow": null,
      "overflow_x": null,
      "overflow_y": null,
      "padding": null,
      "right": null,
      "top": null,
      "visibility": null,
      "width": null
     }
    },
    "45638ea054a145509c459d9a024897b8": {
     "model_module": "@jupyter-widgets/base",
     "model_name": "LayoutModel",
     "state": {
      "_model_module": "@jupyter-widgets/base",
      "_model_module_version": "1.2.0",
      "_model_name": "LayoutModel",
      "_view_count": null,
      "_view_module": "@jupyter-widgets/base",
      "_view_module_version": "1.2.0",
      "_view_name": "LayoutView",
      "align_content": null,
      "align_items": null,
      "align_self": null,
      "border": null,
      "bottom": null,
      "display": null,
      "flex": null,
      "flex_flow": null,
      "grid_area": null,
      "grid_auto_columns": null,
      "grid_auto_flow": null,
      "grid_auto_rows": null,
      "grid_column": null,
      "grid_gap": null,
      "grid_row": null,
      "grid_template_areas": null,
      "grid_template_columns": null,
      "grid_template_rows": null,
      "height": null,
      "justify_content": null,
      "justify_items": null,
      "left": null,
      "margin": null,
      "max_height": null,
      "max_width": null,
      "min_height": null,
      "min_width": null,
      "object_fit": null,
      "object_position": null,
      "order": null,
      "overflow": null,
      "overflow_x": null,
      "overflow_y": null,
      "padding": null,
      "right": null,
      "top": null,
      "visibility": null,
      "width": null
     }
    },
    "48e1c3eb212d42fda1d5ceb4243247e3": {
     "model_module": "@jupyter-widgets/base",
     "model_name": "LayoutModel",
     "state": {
      "_model_module": "@jupyter-widgets/base",
      "_model_module_version": "1.2.0",
      "_model_name": "LayoutModel",
      "_view_count": null,
      "_view_module": "@jupyter-widgets/base",
      "_view_module_version": "1.2.0",
      "_view_name": "LayoutView",
      "align_content": null,
      "align_items": null,
      "align_self": null,
      "border": null,
      "bottom": null,
      "display": null,
      "flex": null,
      "flex_flow": null,
      "grid_area": null,
      "grid_auto_columns": null,
      "grid_auto_flow": null,
      "grid_auto_rows": null,
      "grid_column": null,
      "grid_gap": null,
      "grid_row": null,
      "grid_template_areas": null,
      "grid_template_columns": null,
      "grid_template_rows": null,
      "height": null,
      "justify_content": null,
      "justify_items": null,
      "left": null,
      "margin": null,
      "max_height": null,
      "max_width": null,
      "min_height": null,
      "min_width": null,
      "object_fit": null,
      "object_position": null,
      "order": null,
      "overflow": null,
      "overflow_x": null,
      "overflow_y": null,
      "padding": null,
      "right": null,
      "top": null,
      "visibility": null,
      "width": null
     }
    },
    "49bd3bf59a764fb98aab3c3e1750e2ef": {
     "model_module": "@jupyter-widgets/controls",
     "model_name": "ProgressStyleModel",
     "state": {
      "_model_module": "@jupyter-widgets/controls",
      "_model_module_version": "1.5.0",
      "_model_name": "ProgressStyleModel",
      "_view_count": null,
      "_view_module": "@jupyter-widgets/base",
      "_view_module_version": "1.2.0",
      "_view_name": "StyleView",
      "bar_color": null,
      "description_width": "initial"
     }
    },
    "6fccb78857434278893e8988a63d7a83": {
     "model_module": "@jupyter-widgets/controls",
     "model_name": "HBoxModel",
     "state": {
      "_dom_classes": [],
      "_model_module": "@jupyter-widgets/controls",
      "_model_module_version": "1.5.0",
      "_model_name": "HBoxModel",
      "_view_count": null,
      "_view_module": "@jupyter-widgets/controls",
      "_view_module_version": "1.5.0",
      "_view_name": "HBoxView",
      "box_style": "",
      "children": [
       "IPY_MODEL_0245b72d56564bfeb5b386068cec2c79",
       "IPY_MODEL_a42ae3b09373449db8db04fef2254482"
      ],
      "layout": "IPY_MODEL_34c66e0b0b7d4d198570c1756c151f49"
     }
    },
    "7f3d3337e7724f1bae7eb7d718d9eac2": {
     "model_module": "@jupyter-widgets/controls",
     "model_name": "DescriptionStyleModel",
     "state": {
      "_model_module": "@jupyter-widgets/controls",
      "_model_module_version": "1.5.0",
      "_model_name": "DescriptionStyleModel",
      "_view_count": null,
      "_view_module": "@jupyter-widgets/base",
      "_view_module_version": "1.2.0",
      "_view_name": "StyleView",
      "description_width": ""
     }
    },
    "875f42581cef41e289d6f0e760179bc5": {
     "model_module": "@jupyter-widgets/controls",
     "model_name": "HTMLModel",
     "state": {
      "_dom_classes": [],
      "_model_module": "@jupyter-widgets/controls",
      "_model_module_version": "1.5.0",
      "_model_name": "HTMLModel",
      "_view_count": null,
      "_view_module": "@jupyter-widgets/controls",
      "_view_module_version": "1.5.0",
      "_view_name": "HTMLView",
      "description": "",
      "description_tooltip": null,
      "layout": "IPY_MODEL_e2418cc0d0374fc9ac913ef058feba06",
      "placeholder": "​",
      "style": "IPY_MODEL_d8e50a844e6149e497b879b77e2fe78c",
      "value": " 83.3M/83.3M [01:11&lt;00:00, 1.21MB/s]"
     }
    },
    "9fc5e39e9bb344ccab7db82eea2dca41": {
     "model_module": "@jupyter-widgets/controls",
     "model_name": "FloatProgressModel",
     "state": {
      "_dom_classes": [],
      "_model_module": "@jupyter-widgets/controls",
      "_model_module_version": "1.5.0",
      "_model_name": "FloatProgressModel",
      "_view_count": null,
      "_view_module": "@jupyter-widgets/controls",
      "_view_module_version": "1.5.0",
      "_view_name": "ProgressView",
      "bar_style": "success",
      "description": "100%",
      "description_tooltip": null,
      "layout": "IPY_MODEL_16c737fb8bf64b8da8c5e335ce009900",
      "max": 87306240,
      "min": 0,
      "orientation": "horizontal",
      "style": "IPY_MODEL_b1ed7011a8c74e5c8a2bff59600aeb8b",
      "value": 87306240
     }
    },
    "a42ae3b09373449db8db04fef2254482": {
     "model_module": "@jupyter-widgets/controls",
     "model_name": "HTMLModel",
     "state": {
      "_dom_classes": [],
      "_model_module": "@jupyter-widgets/controls",
      "_model_module_version": "1.5.0",
      "_model_name": "HTMLModel",
      "_view_count": null,
      "_view_module": "@jupyter-widgets/controls",
      "_view_module_version": "1.5.0",
      "_view_name": "HTMLView",
      "description": "",
      "description_tooltip": null,
      "layout": "IPY_MODEL_48e1c3eb212d42fda1d5ceb4243247e3",
      "placeholder": "​",
      "style": "IPY_MODEL_7f3d3337e7724f1bae7eb7d718d9eac2",
      "value": " 44.7M/44.7M [00:04&lt;00:00, 11.3MB/s]"
     }
    },
    "b1ed7011a8c74e5c8a2bff59600aeb8b": {
     "model_module": "@jupyter-widgets/controls",
     "model_name": "ProgressStyleModel",
     "state": {
      "_model_module": "@jupyter-widgets/controls",
      "_model_module_version": "1.5.0",
      "_model_name": "ProgressStyleModel",
      "_view_count": null,
      "_view_module": "@jupyter-widgets/base",
      "_view_module_version": "1.2.0",
      "_view_name": "StyleView",
      "bar_color": null,
      "description_width": "initial"
     }
    },
    "b28f9e4d330b4ea6be9c739ecaac46dc": {
     "model_module": "@jupyter-widgets/controls",
     "model_name": "HBoxModel",
     "state": {
      "_dom_classes": [],
      "_model_module": "@jupyter-widgets/controls",
      "_model_module_version": "1.5.0",
      "_model_name": "HBoxModel",
      "_view_count": null,
      "_view_module": "@jupyter-widgets/controls",
      "_view_module_version": "1.5.0",
      "_view_name": "HBoxView",
      "box_style": "",
      "children": [
       "IPY_MODEL_9fc5e39e9bb344ccab7db82eea2dca41",
       "IPY_MODEL_875f42581cef41e289d6f0e760179bc5"
      ],
      "layout": "IPY_MODEL_45638ea054a145509c459d9a024897b8"
     }
    },
    "d8e50a844e6149e497b879b77e2fe78c": {
     "model_module": "@jupyter-widgets/controls",
     "model_name": "DescriptionStyleModel",
     "state": {
      "_model_module": "@jupyter-widgets/controls",
      "_model_module_version": "1.5.0",
      "_model_name": "DescriptionStyleModel",
      "_view_count": null,
      "_view_module": "@jupyter-widgets/base",
      "_view_module_version": "1.2.0",
      "_view_name": "StyleView",
      "description_width": ""
     }
    },
    "e2418cc0d0374fc9ac913ef058feba06": {
     "model_module": "@jupyter-widgets/base",
     "model_name": "LayoutModel",
     "state": {
      "_model_module": "@jupyter-widgets/base",
      "_model_module_version": "1.2.0",
      "_model_name": "LayoutModel",
      "_view_count": null,
      "_view_module": "@jupyter-widgets/base",
      "_view_module_version": "1.2.0",
      "_view_name": "LayoutView",
      "align_content": null,
      "align_items": null,
      "align_self": null,
      "border": null,
      "bottom": null,
      "display": null,
      "flex": null,
      "flex_flow": null,
      "grid_area": null,
      "grid_auto_columns": null,
      "grid_auto_flow": null,
      "grid_auto_rows": null,
      "grid_column": null,
      "grid_gap": null,
      "grid_row": null,
      "grid_template_areas": null,
      "grid_template_columns": null,
      "grid_template_rows": null,
      "height": null,
      "justify_content": null,
      "justify_items": null,
      "left": null,
      "margin": null,
      "max_height": null,
      "max_width": null,
      "min_height": null,
      "min_width": null,
      "object_fit": null,
      "object_position": null,
      "order": null,
      "overflow": null,
      "overflow_x": null,
      "overflow_y": null,
      "padding": null,
      "right": null,
      "top": null,
      "visibility": null,
      "width": null
     }
    }
   }
  }
 },
 "nbformat": 4,
 "nbformat_minor": 4
}
